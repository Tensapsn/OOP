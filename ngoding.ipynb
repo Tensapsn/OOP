{
  "nbformat": 4,
  "nbformat_minor": 0,
  "metadata": {
    "colab": {
      "provenance": [],
      "authorship_tag": "ABX9TyMfiBcxHWm6IV/BVghRNbWQ",
      "include_colab_link": true
    },
    "kernelspec": {
      "name": "python3",
      "display_name": "Python 3"
    },
    "language_info": {
      "name": "python"
    }
  },
  "cells": [
    {
      "cell_type": "markdown",
      "metadata": {
        "id": "view-in-github",
        "colab_type": "text"
      },
      "source": [
        "<a href=\"https://colab.research.google.com/github/Tensapsn/OOP/blob/master/ngoding.ipynb\" target=\"_parent\"><img src=\"https://colab.research.google.com/assets/colab-badge.svg\" alt=\"Open In Colab\"/></a>"
      ]
    },
    {
      "cell_type": "code",
      "execution_count": null,
      "metadata": {
        "id": "aACUfIUMNMm0"
      },
      "outputs": [],
      "source": [
        "price = 25000\n",
        "uang = 10000\n",
        "\n",
        "if price == uang:\n",
        "  print(\"uang pas\")\n",
        "elif uang < price:\n",
        "  print(\"uang lebih\")\n",
        "else:\n",
        "  print(\"uang tidak cukup\")"
      ]
    },
    {
      "cell_type": "code",
      "source": [
        "nilai = 100\n",
        "\n",
        "if nilai > 90:\n",
        "  print(\"A\")\n",
        "elif nilai > 80:\n",
        "  print(\"B\")\n",
        "elif nilai > 70:\n",
        "  print(\"C\")\n",
        "else:\n",
        "  print(\"D\")"
      ],
      "metadata": {
        "id": "4rNzAf0RU3oY"
      },
      "execution_count": null,
      "outputs": []
    },
    {
      "cell_type": "code",
      "source": [
        "price = 25000\n",
        "uang = 30000\n",
        "kondisi = \"baik\"\n",
        "\n",
        "if uang >= price:\n",
        "  print(\"uang pas\")\n",
        "  if kondisi == \"baik\":\n",
        "    print(\"uang laku\")\n",
        "  else:\n",
        "    print(\"uang tidak laku\")\n",
        "else:\n",
        "  print(\"uang tidak cukup\")"
      ],
      "metadata": {
        "id": "24-jNWrsVSMf"
      },
      "execution_count": null,
      "outputs": []
    },
    {
      "cell_type": "code",
      "source": [
        "\n",
        "total_money = 20\n",
        "item_price = 9\n",
        "\n",
        "if total_money < item_price:\n",
        "    print(\"Uang tidak cukup\")\n",
        "else:\n",
        "    change = total_money - item_price\n",
        "    print(f\"Kembalianmu adalah {change}\")\n"
      ],
      "metadata": {
        "id": "QD5g6Ti5XYdi"
      },
      "execution_count": null,
      "outputs": []
    },
    {
      "cell_type": "code",
      "source": [
        "for i in range(1,11):\n",
        "    print(i)"
      ],
      "metadata": {
        "id": "tZwd0VaRac_w"
      },
      "execution_count": null,
      "outputs": []
    },
    {
      "cell_type": "code",
      "source": [
        "i = 1\n",
        "\n",
        "while i <= 10:\n",
        "  print(i)\n",
        "  i+=1"
      ],
      "metadata": {
        "id": "UaC6V3vga6lg"
      },
      "execution_count": null,
      "outputs": []
    },
    {
      "cell_type": "code",
      "source": [
        "total = 0\n",
        "for i in range(1,6):\n",
        "  total = total + i\n",
        "\n",
        "print(total)"
      ],
      "metadata": {
        "id": "1SuVbR1jcJhg"
      },
      "execution_count": null,
      "outputs": []
    },
    {
      "cell_type": "code",
      "source": [
        "b = 0\n",
        "i = 0\n",
        "while i <= 1000:\n",
        "    hasil = i + b\n",
        "    print(hasil)\n",
        "    i+=1\n",
        "    b+=1\n"
      ],
      "metadata": {
        "id": "8Ybe5LdEcmrQ"
      },
      "execution_count": null,
      "outputs": []
    },
    {
      "cell_type": "code",
      "source": [
        "def perkalian(angka1, angka2):\n",
        "    return angka1+angka2\n",
        "\n",
        "hasil = perkalian(10,2)\n",
        "print(hasil)"
      ],
      "metadata": {
        "colab": {
          "base_uri": "https://localhost:8080/"
        },
        "id": "Zat9mu_BeQj8",
        "outputId": "83c731e7-0a2c-45a5-b841-2b5e949655ba"
      },
      "execution_count": null,
      "outputs": [
        {
          "output_type": "stream",
          "name": "stdout",
          "text": [
            "12\n"
          ]
        }
      ]
    },
    {
      "cell_type": "code",
      "source": [
        "def test(x):\n",
        "    result = (x**2) + (x**3) + (x+2) - (x/2)\n",
        "    return result\n",
        "x = 7\n",
        "result = test(x)\n",
        "print(result)\n"
      ],
      "metadata": {
        "colab": {
          "base_uri": "https://localhost:8080/"
        },
        "id": "knrinrcAkQCI",
        "outputId": "5dc0750a-c830-43cf-b918-e7da1c4d5df2"
      },
      "execution_count": null,
      "outputs": [
        {
          "output_type": "stream",
          "name": "stdout",
          "text": [
            "397.5\n"
          ]
        }
      ]
    },
    {
      "cell_type": "code",
      "source": [],
      "metadata": {
        "id": "90DjziEfkQC1"
      },
      "execution_count": null,
      "outputs": []
    }
  ]
}